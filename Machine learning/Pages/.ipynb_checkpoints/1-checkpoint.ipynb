{
 "cells": [
  {
   "cell_type": "markdown",
   "id": "82075832-5956-4394-a899-ee17a18e5d46",
   "metadata": {},
   "source": [
    "# Machine Learning"
   ]
  },
  {
   "cell_type": "markdown",
   "id": "3a196299-163a-471f-8f05-f32b5fdb6044",
   "metadata": {},
   "source": [
    "### What exactly is machine learning?"
   ]
  },
  {
   "cell_type": "markdown",
   "id": "6d69074a-18f1-4afe-bd08-77e7443355e9",
   "metadata": {},
   "source": [
    "When a computer is made to predict certain labels without being explicitly coded, then the process is called Machine learning"
   ]
  },
  {
   "cell_type": "markdown",
   "id": "bc5c5178-3a3e-4405-8543-3a69dea149da",
   "metadata": {},
   "source": [
    "### What are the types of machine learning?"
   ]
  },
  {
   "cell_type": "markdown",
   "id": "c173fef2-4a32-41d8-a1a6-9a3ba585e627",
   "metadata": {},
   "source": [
    "There are three types of machine learning algorithms:\n"
   ]
  },
  {
   "cell_type": "markdown",
   "id": "b592a15c-bcac-463a-af01-5121b981a5ee",
   "metadata": {},
   "source": [
    "1. Supervised Learning: This is the kind of algorithm that learns from labeled training data.\n",
    "Example: House Price Prediction, Loan Prediction, Flower Classification, etc.\n",
    "Following is an example of data used for supervised learning, here X and Y are the features and Z is the Label that is to be learnt in order to predict for unseen data"
   ]
  },
  {
   "cell_type": "code",
   "execution_count": 23,
   "id": "eb3e9e73-bec5-4a75-bebb-9661fb05abea",
   "metadata": {},
   "outputs": [
    {
     "data": {
      "text/html": [
       "<div>\n",
       "<style scoped>\n",
       "    .dataframe tbody tr th:only-of-type {\n",
       "        vertical-align: middle;\n",
       "    }\n",
       "\n",
       "    .dataframe tbody tr th {\n",
       "        vertical-align: top;\n",
       "    }\n",
       "\n",
       "    .dataframe thead th {\n",
       "        text-align: right;\n",
       "    }\n",
       "</style>\n",
       "<table border=\"1\" class=\"dataframe\">\n",
       "  <thead>\n",
       "    <tr style=\"text-align: right;\">\n",
       "      <th></th>\n",
       "      <th>X</th>\n",
       "      <th>Y</th>\n",
       "      <th>Z</th>\n",
       "    </tr>\n",
       "  </thead>\n",
       "  <tbody>\n",
       "    <tr>\n",
       "      <th>0</th>\n",
       "      <td>-0.162167</td>\n",
       "      <td>0.872547</td>\n",
       "      <td>-0.503629</td>\n",
       "    </tr>\n",
       "    <tr>\n",
       "      <th>1</th>\n",
       "      <td>3.160527</td>\n",
       "      <td>0.258158</td>\n",
       "      <td>2.154152</td>\n",
       "    </tr>\n",
       "    <tr>\n",
       "      <th>2</th>\n",
       "      <td>-0.852372</td>\n",
       "      <td>-0.156359</td>\n",
       "      <td>2.036554</td>\n",
       "    </tr>\n",
       "    <tr>\n",
       "      <th>3</th>\n",
       "      <td>-0.895047</td>\n",
       "      <td>-0.432728</td>\n",
       "      <td>-0.247771</td>\n",
       "    </tr>\n",
       "    <tr>\n",
       "      <th>4</th>\n",
       "      <td>0.931836</td>\n",
       "      <td>-1.447061</td>\n",
       "      <td>-2.271359</td>\n",
       "    </tr>\n",
       "    <tr>\n",
       "      <th>5</th>\n",
       "      <td>-0.215208</td>\n",
       "      <td>1.176478</td>\n",
       "      <td>0.239001</td>\n",
       "    </tr>\n",
       "    <tr>\n",
       "      <th>6</th>\n",
       "      <td>-1.370077</td>\n",
       "      <td>0.823013</td>\n",
       "      <td>0.093185</td>\n",
       "    </tr>\n",
       "    <tr>\n",
       "      <th>7</th>\n",
       "      <td>1.165835</td>\n",
       "      <td>-0.940111</td>\n",
       "      <td>0.219914</td>\n",
       "    </tr>\n",
       "    <tr>\n",
       "      <th>8</th>\n",
       "      <td>0.027199</td>\n",
       "      <td>-0.625064</td>\n",
       "      <td>1.588547</td>\n",
       "    </tr>\n",
       "    <tr>\n",
       "      <th>9</th>\n",
       "      <td>0.501319</td>\n",
       "      <td>-1.681141</td>\n",
       "      <td>0.056142</td>\n",
       "    </tr>\n",
       "  </tbody>\n",
       "</table>\n",
       "</div>"
      ],
      "text/plain": [
       "          X         Y         Z\n",
       "0 -0.162167  0.872547 -0.503629\n",
       "1  3.160527  0.258158  2.154152\n",
       "2 -0.852372 -0.156359  2.036554\n",
       "3 -0.895047 -0.432728 -0.247771\n",
       "4  0.931836 -1.447061 -2.271359\n",
       "5 -0.215208  1.176478  0.239001\n",
       "6 -1.370077  0.823013  0.093185\n",
       "7  1.165835 -0.940111  0.219914\n",
       "8  0.027199 -0.625064  1.588547\n",
       "9  0.501319 -1.681141  0.056142"
      ]
     },
     "execution_count": 23,
     "metadata": {},
     "output_type": "execute_result"
    }
   ],
   "source": [
    "import numpy as np\n",
    "import pandas as pd\n",
    "import matplotlib.pyplot as plt\n",
    "\n",
    "num = np.random.randn(10,3)\n",
    "pd.DataFrame(num , columns=['X','Y','Z'])"
   ]
  },
  {
   "cell_type": "markdown",
   "id": "e0efb32b-3eb2-4105-9399-8232c8d4c14c",
   "metadata": {},
   "source": [
    "2. Unsupervised Learning: This is the kind of algorithm where labels are the not provieded.\n",
    "Example: Spam-Not Spam classification, Learning Customer's Purchase"
   ]
  },
  {
   "cell_type": "markdown",
   "id": "41cf5f0e-12a3-49be-b565-ec6377978ee5",
   "metadata": {},
   "source": [
    "3. Reinforcement Learning:Reinforcement learning is an area of Machine Learning. It is about taking suitable action to maximize reward in a particular situation."
   ]
  },
  {
   "cell_type": "code",
   "execution_count": null,
   "id": "91b714ed-fc1d-4a47-9379-1084fdc39f56",
   "metadata": {},
   "outputs": [],
   "source": []
  }
 ],
 "metadata": {
  "kernelspec": {
   "display_name": "Python 3",
   "language": "python",
   "name": "python3"
  },
  "language_info": {
   "codemirror_mode": {
    "name": "ipython",
    "version": 3
   },
   "file_extension": ".py",
   "mimetype": "text/x-python",
   "name": "python",
   "nbconvert_exporter": "python",
   "pygments_lexer": "ipython3",
   "version": "3.8.8"
  },
  "widgets": {
   "application/vnd.jupyter.widget-state+json": {
    "state": {},
    "version_major": 2,
    "version_minor": 0
   }
  }
 },
 "nbformat": 4,
 "nbformat_minor": 5
}
