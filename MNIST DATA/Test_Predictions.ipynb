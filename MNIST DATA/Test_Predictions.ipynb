{
 "cells": [
  {
   "cell_type": "code",
   "execution_count": 1,
   "id": "5428e468",
   "metadata": {},
   "outputs": [],
   "source": [
    "import pandas as pd\n",
    "import tensorflow as tf\n",
    "import numpy as np\n",
    "import cv2\n",
    "import matplotlib.pyplot as plt"
   ]
  },
  {
   "cell_type": "code",
   "execution_count": 2,
   "id": "f1ac21a2",
   "metadata": {},
   "outputs": [],
   "source": [
    "data = pd.read_csv('Test_fCbTej3_0j1gHmj.csv')"
   ]
  },
  {
   "cell_type": "code",
   "execution_count": 6,
   "id": "7353190b",
   "metadata": {},
   "outputs": [],
   "source": [
    "X=[]\n",
    "for i in data['filename']:\n",
    "    path = 'Train_UQcUa52\\\\Images\\\\test\\\\'+str(i)\n",
    "    img=cv2.imread(path)\n",
    "    img=cv2.resize(img,(28,28))\n",
    "    img=img / 255\n",
    "    X.append(img)\n",
    "X=np.array(X)"
   ]
  },
  {
   "cell_type": "code",
   "execution_count": 7,
   "id": "1488c4eb",
   "metadata": {},
   "outputs": [
    {
     "data": {
      "text/plain": [
       "(21000, 28, 28, 3)"
      ]
     },
     "execution_count": 7,
     "metadata": {},
     "output_type": "execute_result"
    }
   ],
   "source": [
    "X.shape"
   ]
  },
  {
   "cell_type": "code",
   "execution_count": 34,
   "id": "a42c6fe6",
   "metadata": {},
   "outputs": [
    {
     "data": {
      "text/plain": [
       "<matplotlib.image.AxesImage at 0x1d7747bf5e0>"
      ]
     },
     "execution_count": 34,
     "metadata": {},
     "output_type": "execute_result"
    },
    {
     "data": {
      "image/png": "[encoded data removed]",
      "text/plain": [
       "<Figure size 432x288 with 1 Axes>"
      ]
     },
     "metadata": {
      "needs_background": "light"
     },
     "output_type": "display_data"
    }
   ],
   "source": [
    "plt.imshow(X[0])"
   ]
  },
  {
   "cell_type": "code",
   "execution_count": 10,
   "id": "51afdb6b",
   "metadata": {},
   "outputs": [],
   "source": [
    "model = tf.keras.models.load_model('Digit_Identifier.model')"
   ]
  },
  {
   "cell_type": "code",
   "execution_count": 11,
   "id": "625a36b5",
   "metadata": {},
   "outputs": [],
   "source": [
    "predictions=model.predict(X)"
   ]
  },
  {
   "cell_type": "code",
   "execution_count": 33,
   "id": "db333012",
   "metadata": {},
   "outputs": [
    {
     "data": {
      "text/plain": [
       "array([4.4801697e-14, 1.1614854e-12, 9.1633591e-13, 7.1120566e-16,\n",
       "       1.0000000e+00, 2.5738543e-14, 2.2892425e-10, 2.3178546e-13,\n",
       "       9.7198485e-11, 8.4108651e-11], dtype=float32)"
      ]
     },
     "execution_count": 33,
     "metadata": {},
     "output_type": "execute_result"
    }
   ],
   "source": [
    "predictions[0]"
   ]
  },
  {
   "cell_type": "markdown",
   "id": "84f77aa0",
   "metadata": {},
   "source": [
    "### "
   ]
  },
  {
   "cell_type": "code",
   "execution_count": 41,
   "id": "d1491c02",
   "metadata": {},
   "outputs": [],
   "source": [
    "pred=[]\n",
    "for i in range(predictions.shape[0]):\n",
    "   pred.append(np.where(predictions[i] == np.max(predictions[i]))[0][0])"
   ]
  },
  {
   "cell_type": "code",
   "execution_count": 43,
   "id": "a29281dd",
   "metadata": {},
   "outputs": [],
   "source": [
    "pred = pd.DataFrame(pred,columns=['label'])"
   ]
  },
  {
   "cell_type": "code",
   "execution_count": 45,
   "id": "b5226a68",
   "metadata": {},
   "outputs": [],
   "source": [
    "Output = data.join(pred)"
   ]
  },
  {
   "cell_type": "code",
   "execution_count": 49,
   "id": "a0f78555",
   "metadata": {},
   "outputs": [],
   "source": [
    "Output.to_csv('mnist_output.csv')"
   ]
  },
  {
   "cell_type": "code",
   "execution_count": null,
   "id": "7e41012e",
   "metadata": {},
   "outputs": [],
   "source": []
  }
 ],
 "metadata": {
  "kernelspec": {
   "display_name": "Python 3",
   "language": "python",
   "name": "python3"
  },
  "language_info": {
   "codemirror_mode": {
    "name": "ipython",
    "version": 3
   },
   "file_extension": ".py",
   "mimetype": "text/x-python",
   "name": "python",
   "nbconvert_exporter": "python",
   "pygments_lexer": "ipython3",
   "version": "3.9.5"
  }
 },
 "nbformat": 4,
 "nbformat_minor": 5
}
