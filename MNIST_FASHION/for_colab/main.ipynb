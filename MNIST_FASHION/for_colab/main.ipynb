{
 "cells": [
  {
   "cell_type": "code",
   "execution_count": 1,
   "id": "51f4f3a4",
   "metadata": {},
   "outputs": [],
   "source": [
    "import pandas as pd\n",
    "import numpy as np\n",
    "import matplotlib.pyplot as plt\n",
    "import tensorflow as tf\n",
    "import tensorflow.keras.layers as layers\n",
    "from sklearn.model_selection import train_test_split\n",
    "import cv2\n"
   ]
  },
  {
   "cell_type": "code",
   "execution_count": 6,
   "id": "0c164571",
   "metadata": {},
   "outputs": [],
   "source": [
    "# Reading Dataset\n",
    "# !unzip train_LbELtWX.zip\n",
    "# !unzip train_LbELtWX.zip\n",
    "data = pd.read_csv('train_LbELtWX\\\\train.csv')"
   ]
  },
  {
   "cell_type": "code",
   "execution_count": 7,
   "id": "a518480e",
   "metadata": {},
   "outputs": [
    {
     "ename": "KeyboardInterrupt",
     "evalue": "",
     "output_type": "error",
     "traceback": [
      "\u001b[1;31m---------------------------------------------------------------------------\u001b[0m",
      "\u001b[1;31mKeyboardInterrupt\u001b[0m                         Traceback (most recent call last)",
      "\u001b[1;32m<ipython-input-7-f2262addb17f>\u001b[0m in \u001b[0;36m<module>\u001b[1;34m\u001b[0m\n\u001b[0;32m      5\u001b[0m     \u001b[0mimg\u001b[0m \u001b[1;33m=\u001b[0m \u001b[0mcv2\u001b[0m\u001b[1;33m.\u001b[0m\u001b[0mimread\u001b[0m\u001b[1;33m(\u001b[0m\u001b[0mpath\u001b[0m\u001b[1;33m)\u001b[0m\u001b[1;33m\u001b[0m\u001b[1;33m\u001b[0m\u001b[0m\n\u001b[0;32m      6\u001b[0m     \u001b[0mimg\u001b[0m \u001b[1;33m=\u001b[0m \u001b[0mcv2\u001b[0m\u001b[1;33m.\u001b[0m\u001b[0mresize\u001b[0m\u001b[1;33m(\u001b[0m\u001b[0mimg\u001b[0m\u001b[1;33m,\u001b[0m\u001b[1;33m(\u001b[0m\u001b[1;36m28\u001b[0m\u001b[1;33m,\u001b[0m\u001b[1;36m28\u001b[0m\u001b[1;33m)\u001b[0m\u001b[1;33m)\u001b[0m\u001b[1;33m\u001b[0m\u001b[1;33m\u001b[0m\u001b[0m\n\u001b[1;32m----> 7\u001b[1;33m     \u001b[0mX\u001b[0m\u001b[1;33m.\u001b[0m\u001b[0mappend\u001b[0m\u001b[1;33m(\u001b[0m\u001b[0mimg\u001b[0m\u001b[1;33m.\u001b[0m\u001b[0mastype\u001b[0m\u001b[1;33m(\u001b[0m\u001b[1;34m'float32'\u001b[0m\u001b[1;33m)\u001b[0m\u001b[1;33m)\u001b[0m\u001b[1;33m\u001b[0m\u001b[1;33m\u001b[0m\u001b[0m\n\u001b[0m\u001b[0;32m      8\u001b[0m \u001b[1;33m\u001b[0m\u001b[0m\n\u001b[0;32m      9\u001b[0m \u001b[0mX\u001b[0m\u001b[1;33m=\u001b[0m\u001b[0mnp\u001b[0m\u001b[1;33m.\u001b[0m\u001b[0marray\u001b[0m\u001b[1;33m(\u001b[0m\u001b[0mX\u001b[0m\u001b[1;33m)\u001b[0m\u001b[1;33m\u001b[0m\u001b[1;33m\u001b[0m\u001b[0m\n",
      "\u001b[1;31mKeyboardInterrupt\u001b[0m: "
     ]
    }
   ],
   "source": [
    "# Image Preprocessing\n",
    "X=[]\n",
    "for i in data['id']:\n",
    "    path = 'train_LbELtWX\\\\train\\\\' + str(i) + '.png'\n",
    "    img = cv2.imread(path)\n",
    "    img = cv2.resize(img,(28,28))\n",
    "    X.append(img.astype('float32'))\n",
    "    \n",
    "X=np.array(X)\n"
   ]
  },
  {
   "cell_type": "code",
   "execution_count": null,
   "id": "0d498921",
   "metadata": {},
   "outputs": [],
   "source": [
    "plt.imshow(X[0])"
   ]
  },
  {
   "cell_type": "code",
   "execution_count": null,
   "id": "b7ba50bf",
   "metadata": {},
   "outputs": [],
   "source": [
    "# Normalizing Images array\n",
    "X=X / 255"
   ]
  },
  {
   "cell_type": "code",
   "execution_count": null,
   "id": "07bcae73",
   "metadata": {},
   "outputs": [],
   "source": [
    "Y=data['label']"
   ]
  },
  {
   "cell_type": "code",
   "execution_count": null,
   "id": "4aae0d79",
   "metadata": {},
   "outputs": [],
   "source": [
    "# Performing OneHot Enconding on Labels\n",
    "Y = np.array(tf.one_hot(Y,10))"
   ]
  },
  {
   "cell_type": "code",
   "execution_count": null,
   "id": "5fa361e0",
   "metadata": {},
   "outputs": [],
   "source": [
    "# Splitting into train and test dataset\n",
    "X_train,X_val,Y_train,Y_val = train_test_split(X,Y,random_state=42,test_size=0.17)"
   ]
  },
  {
   "cell_type": "code",
   "execution_count": null,
   "id": "64b84c8b",
   "metadata": {},
   "outputs": [],
   "source": [
    "X_train.shape,Y_train.shape"
   ]
  },
  {
   "cell_type": "code",
   "execution_count": null,
   "id": "353570e5",
   "metadata": {},
   "outputs": [],
   "source": [
    "model= tf.keras.Sequential([\n",
    "# Model_1 Architecture\n",
    "#     layers.Conv2D(256,3,input_shape=(28,28,3),activation='relu'),\n",
    "#     layers.MaxPooling2D(2),\n",
    "#     layers.Conv2D(128,3,activation='relu'),\n",
    "#     layers.MaxPooling2D(2),\n",
    "    \n",
    "#     layers.Flatten(),\n",
    "#     layers.Dense(512,activation='relu'),\n",
    "#     layers.Dropout(0.2),\n",
    "#     layers.Dense(216,activation='relu'),\n",
    "#     layers.Dropout(0.2),\n",
    "#     layers.Dense(10,activation='softmax'),\n",
    "    \n",
    "# Model_2 Architecture\n",
    "#     layers.Conv2D(128,3,input_shape=(28,28,3),activation='relu'),\n",
    "#     layers.MaxPooling2D(2),\n",
    "#     layers.Conv2D(256,3,input_shape=(28,28,3),activation='relu'),\n",
    "#     layers.MaxPooling2D(3),\n",
    "    \n",
    "#     layers.Flatten(),\n",
    "#     layers.Dense(1024,activation='relu'),\n",
    "#     layers.Dropout(0.3),\n",
    "#     layers.Dense(512,activation='relu'),\n",
    "#     layers.Dropout(0.3),\n",
    "#     layers.Dense(128,activation='relu'),\n",
    "#     layers.Dropout(0.2),\n",
    "#     layers.Dense(10,activation='softmax'),\n",
    "\n",
    "# # Model_3 Architecture\n",
    "    layers.Conv2D(128,3,input_shape=(28,28,3),activation='relu'),\n",
    "    layers.MaxPooling2D(2),\n",
    "    layers.Conv2D(256,3 ,activation='relu'),\n",
    "    layers.MaxPooling2D(2),\n",
    "    layers.Conv2D(512,3,activation='relu'),\n",
    "    layers.MaxPooling2D(3),\n",
    "    \n",
    "    layers.Flatten(),\n",
    "    layers.Dense(256,activation='relu'),\n",
    "    layers.Dropout(0.2),\n",
    "    layers.Dense(10,activation='softmax'),\n",
    "    \n",
    "    \n",
    "])"
   ]
  },
  {
   "cell_type": "code",
   "execution_count": null,
   "id": "3f97bf4a",
   "metadata": {},
   "outputs": [],
   "source": [
    "model.summary()"
   ]
  },
  {
   "cell_type": "code",
   "execution_count": null,
   "id": "71b043bf",
   "metadata": {},
   "outputs": [],
   "source": [
    "model.compile(optimizer=tf.keras.optimizers.Adam(1e-4),loss=tf.keras.losses.CategoricalCrossentropy(),metrics=['accuracy'])"
   ]
  },
  {
   "cell_type": "code",
   "execution_count": null,
   "id": "6d7f7e31",
   "metadata": {},
   "outputs": [],
   "source": [
    "model.fit(X_train,Y_train,epochs=10)"
   ]
  },
  {
   "cell_type": "code",
   "execution_count": null,
   "id": "805e9ca7",
   "metadata": {},
   "outputs": [],
   "source": [
    "model.evaluate(X_val,Y_val)"
   ]
  },
  {
   "cell_type": "code",
   "execution_count": null,
   "id": "bd71c3db",
   "metadata": {},
   "outputs": [],
   "source": [
    "model.save('model_3_learning_rate.model',save_format='h5')"
   ]
  },
  {
   "cell_type": "code",
   "execution_count": null,
   "id": "cf3bfdeb",
   "metadata": {},
   "outputs": [],
   "source": []
  }
 ],
 "metadata": {
  "kernelspec": {
   "display_name": "Python 3",
   "language": "python",
   "name": "python3"
  },
  "language_info": {
   "codemirror_mode": {
    "name": "ipython",
    "version": 3
   },
   "file_extension": ".py",
   "mimetype": "text/x-python",
   "name": "python",
   "nbconvert_exporter": "python",
   "pygments_lexer": "ipython3",
   "version": "3.8.8"
  },
  "widgets": {
   "application/vnd.jupyter.widget-state+json": {
    "state": {},
    "version_major": 2,
    "version_minor": 0
   }
  }
 },
 "nbformat": 4,
 "nbformat_minor": 5
}
